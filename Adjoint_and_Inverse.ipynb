{
 "cells": [
  {
   "cell_type": "code",
   "execution_count": 20,
   "id": "d624edd4-45b4-42b1-868c-bad9c27b27f7",
   "metadata": {},
   "outputs": [
    {
     "name": "stdout",
     "output_type": "stream",
     "text": [
      "Matrix A:\n",
      "[[1 2 3]\n",
      " [0 1 0]\n",
      " [2 0 1]]\n",
      "Adjoint of A:\n",
      "[[ 1. -2. -3.]\n",
      " [-0. -5. -0.]\n",
      " [-2.  4.  1.]]\n"
     ]
    }
   ],
   "source": [
    "import numpy as ny  # Correctly using 'ny' for numpy alias\n",
    "\n",
    "# Define the matrix A\n",
    "A = ny.array([[1, 2, 3], \n",
    "              [0, 1, 0], \n",
    "              [2, 0, 1]])\n",
    "\n",
    "print(\"Matrix A:\")\n",
    "print(A)\n",
    "\n",
    "# Function to calculate the cofactor matrix\n",
    "def cofactor(matrix):\n",
    "    C = ny.zeros(matrix.shape)  # Correct assignment using '='\n",
    "    for i in range(matrix.shape[0]):\n",
    "        for j in range(matrix.shape[1]):\n",
    "            # Minor matrix: remove row i and column j\n",
    "            minor = ny.delete(ny.delete(matrix, i, axis=0), j, axis=1)\n",
    "            C[i, j] = (-1) ** (i + j) * ny.linalg.det(minor)\n",
    "    return C\n",
    "\n",
    "# Function to calculate the adjoint of a matrix\n",
    "def adjoint(matrix):\n",
    "    return cofactor(matrix).T  # Transpose of the cofactor matrix\n",
    "\n",
    "# Calculating the adjoint of A\n",
    "adj_A = adjoint(A)\n",
    "\n",
    "print(\"Adjoint of A:\")\n",
    "print(adj_A)\n"
   ]
  },
  {
   "cell_type": "code",
   "execution_count": 6,
   "id": "c1a291a1-3241-4f32-86a9-ca8973cccf56",
   "metadata": {},
   "outputs": [
    {
     "name": "stdout",
     "output_type": "stream",
     "text": [
      "Matrix A :\n",
      "[[1 2 3]\n",
      " [0 1 0]\n",
      " [2 0 1]]\n",
      "After adjoint \n",
      "[[0. 0. 0.]\n",
      " [0. 0. 0.]\n",
      " [0. 0. 0.]]\n"
     ]
    }
   ],
   "source": [
    "import numpy as ny\n",
    "A=ny.array([[1,2,3],[0,1,0],[2,0,1]])\n",
    "print(\"Matrix A :\")\n",
    "print(A)\n",
    "\n",
    "def cofacter(matrix):\n",
    "    c=ny.zeros(matrix.shape)\n",
    "    for i in range(matrix.shape[0]):\n",
    "        for j in range(matrix.shape[1]):\n",
    "            minor=ny.delete(ny.delete(matrix,i,axis=0),j,axis=1)\n",
    "            return c\n",
    "\n",
    "def adjoint(matrix):\n",
    "    return cofacter(matrix).T\n",
    "print(\"After adjoint \")\n",
    "adjoint_A=adjoint(A)\n",
    "print(adjoint_A)"
   ]
  },
  {
   "cell_type": "code",
   "execution_count": null,
   "id": "82153413-428a-441e-840d-78f4c8e5dff6",
   "metadata": {},
   "outputs": [],
   "source": []
  }
 ],
 "metadata": {
  "kernelspec": {
   "display_name": "Python 3 (ipykernel)",
   "language": "python",
   "name": "python3"
  },
  "language_info": {
   "codemirror_mode": {
    "name": "ipython",
    "version": 3
   },
   "file_extension": ".py",
   "mimetype": "text/x-python",
   "name": "python",
   "nbconvert_exporter": "python",
   "pygments_lexer": "ipython3",
   "version": "3.12.4"
  }
 },
 "nbformat": 4,
 "nbformat_minor": 5
}
