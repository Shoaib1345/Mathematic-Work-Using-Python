{
 "cells": [
  {
   "cell_type": "code",
   "execution_count": 7,
   "id": "048d922d-957b-4637-b8ed-b677f4ee899f",
   "metadata": {},
   "outputs": [
    {
     "name": "stdout",
     "output_type": "stream",
     "text": [
      "here is determinate of given matrix  -46.99999999999997\n"
     ]
    }
   ],
   "source": [
    "import numpy as ny\n",
    "\n",
    "matrix=ny.array([[-2,4,3],[5,4,-2],[2,7,3]])\n",
    "determinate=ny.linalg.det(matrix)\n",
    "print(\"here is determinate of given matrix \" ,determinate )"
   ]
  },
  {
   "cell_type": "code",
   "execution_count": null,
   "id": "9cb45dd9-cdec-4b6d-81e1-c3dd8cfda1df",
   "metadata": {},
   "outputs": [],
   "source": []
  },
  {
   "cell_type": "code",
   "execution_count": null,
   "id": "6456d35c-50e0-439a-a6b9-9697707113ed",
   "metadata": {},
   "outputs": [],
   "source": []
  }
 ],
 "metadata": {
  "kernelspec": {
   "display_name": "Python 3 (ipykernel)",
   "language": "python",
   "name": "python3"
  },
  "language_info": {
   "codemirror_mode": {
    "name": "ipython",
    "version": 3
   },
   "file_extension": ".py",
   "mimetype": "text/x-python",
   "name": "python",
   "nbconvert_exporter": "python",
   "pygments_lexer": "ipython3",
   "version": "3.12.4"
  }
 },
 "nbformat": 4,
 "nbformat_minor": 5
}
